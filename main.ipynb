{
 "cells": [
  {
   "cell_type": "markdown",
   "metadata": {},
   "source": [
    "spaCy is an open-source software library for advanced natural language processing."
   ]
  },
  {
   "cell_type": "code",
   "execution_count": 82,
   "metadata": {},
   "outputs": [],
   "source": [
    "import spacy"
   ]
  },
  {
   "cell_type": "markdown",
   "metadata": {},
   "source": [
    "Load pre-existing spacy model"
   ]
  },
  {
   "cell_type": "code",
   "execution_count": 83,
   "metadata": {},
   "outputs": [],
   "source": [
    "\n",
    "'''\n",
    "\"en_core_web_sm\" \n",
    "is a small English pipeline trained on written web text (blogs, news, comments), that includes vocabulary, syntax and entities.\n",
    "\n",
    "To Download linux-python, run this command: \n",
    "          python -m spacy download en_core_web_sm\n",
    "'''\n",
    "nlp=spacy.load('en_core_web_sm')"
   ]
  },
  {
   "cell_type": "markdown",
   "metadata": {},
   "source": [
    "Name Entity Recognition"
   ]
  },
  {
   "cell_type": "code",
   "execution_count": 84,
   "metadata": {},
   "outputs": [
    {
     "data": {
      "text/plain": [
       "['tok2vec', 'tagger', 'parser', 'attribute_ruler', 'lemmatizer', 'ner']"
      ]
     },
     "execution_count": 84,
     "metadata": {},
     "output_type": "execute_result"
    }
   ],
   "source": [
    "nlp.pipe_names"
   ]
  },
  {
   "cell_type": "code",
   "execution_count": 85,
   "metadata": {},
   "outputs": [
    {
     "data": {
      "text/plain": [
       "['CARDINAL',\n",
       " 'DATE',\n",
       " 'EVENT',\n",
       " 'FAC',\n",
       " 'GPE',\n",
       " 'LANGUAGE',\n",
       " 'LAW',\n",
       " 'LOC',\n",
       " 'MONEY',\n",
       " 'NORP',\n",
       " 'ORDINAL',\n",
       " 'ORG',\n",
       " 'PERCENT',\n",
       " 'PERSON',\n",
       " 'PRODUCT',\n",
       " 'QUANTITY',\n",
       " 'TIME',\n",
       " 'WORK_OF_ART']"
      ]
     },
     "execution_count": 85,
     "metadata": {},
     "output_type": "execute_result"
    }
   ],
   "source": [
    "nlp.pipe_labels['ner']"
   ]
  },
  {
   "cell_type": "markdown",
   "metadata": {},
   "source": [
    "No FOOD Level in NER default dataset, so we can add a new level "
   ]
  },
  {
   "cell_type": "code",
   "execution_count": 86,
   "metadata": {},
   "outputs": [],
   "source": [
    "\n",
    "# Getting the pipeline component\n",
    "ner=nlp.get_pipe(\"ner\")"
   ]
  },
  {
   "cell_type": "markdown",
   "metadata": {},
   "source": [
    " New label to add"
   ]
  },
  {
   "cell_type": "code",
   "execution_count": 87,
   "metadata": {},
   "outputs": [],
   "source": [
    "LABEL = \"FOOD\""
   ]
  },
  {
   "cell_type": "markdown",
   "metadata": {},
   "source": [
    "Training examples in the required format"
   ]
  },
  {
   "cell_type": "code",
   "execution_count": 88,
   "metadata": {},
   "outputs": [],
   "source": [
    "\n",
    "# Foods Dataset: \n",
    "#  different Categories _\n",
    "#      Staple foods, \n",
    "#      Fishs, \n",
    "#      Fruits, \n",
    "#      Pitha, \n",
    "#      Sweets, \n",
    "#      Street foods \n",
    "#      and more commonly used foods in Bangladesi Restaurants .\n",
    "\n",
    "TRAIN_DATA =[ \n",
    "              (\"Rice is Common Staple food in Bangladesh.\", {\"entities\": [(0, 4, \"FOOD\")]}),\n",
    "              (\"Khichuri is Staple food in Bangladesh.\", {\"entities\": [(0, 8, \"FOOD\")]}),\n",
    "              (\"Puffed rice is Staple food.\", {\"entities\": [(0, 11, \"FOOD\")]}),\n",
    "              (\"Flattened Rice is a good probiotic food.\", {\"entities\": [(0, 14, \"FOOD\")]}),\n",
    "\n",
    "              (\"Dal is a split grain used in Bangladeshi cookery.\", {\"entities\": [(0, 3, \"FOOD\")]}),\n",
    "\n",
    "              \n",
    "              (\"Ilish is National Fish in Bangladesh.\", {\"entities\": [(0, 5, \"FOOD\")]}),\n",
    "              (\"Snakehead murrel is National Fish in Bangladesh.\", {\"entities\": [(0, 16, \"FOOD\")]}),\n",
    "\n",
    "              (\"Mango is Common Fruits in Bangladesh.\", {\"entities\": [(0, 5, \"FOOD\")]}),\n",
    "              (\"Jackfruit is National Fruits in Bangladesh.\", {\"entities\": [(0, 9, \"FOOD\")]}),\n",
    "\n",
    "              (\"Patishapta is classic pitha in Bangladesh.\", {\"entities\": [(0, 10, \"FOOD\")]}),\n",
    "              (\"Bhapa pitha are street side favorite winter synack for Bangladeshi People.\", {\"entities\": [(0, 11, \"FOOD\")]}),\n",
    "              (\"Nakshi pitha\", {\"entities\": [(0, 12, \"FOOD\")]}),\n",
    "              (\"Chitoi pitha\", {\"entities\": [(0, 12, \"FOOD\")]}),\n",
    "              (\"Malpua pitha are Nobbano Utshob Pitha\", {\"entities\": [(0, 12, \"FOOD\")]}),\n",
    "\n",
    "              (\"Bogurar doi Milk-based Sweets in Bangladesh.\", {\"entities\": [(0, 11, \"FOOD\")]}),\n",
    "              (\"Jilapi are common sweets.\", {\"entities\": [(0, 6, \"FOOD\")]}),\n",
    "              (\"Roshogolla\", {\"entities\": [(0, 10, \"FOOD\")]}),\n",
    "              (\"Kalojam\", {\"entities\": [(0, 7, \"FOOD\")]}),\n",
    "\n",
    "              (\"Shingara is common street food in Bangladesis.\", {\"entities\": [(0, 8, \"FOOD\")]}),\n",
    "              (\"Samosa is common street food in Bangladesis.\", {\"entities\": [(0, 6, \"FOOD\")]}),\n",
    "              (\"Chanachur is common street food in Bangladesis.\", {\"entities\": [(0, 9, \"FOOD\")]}),\n",
    "\n",
    "              (\"Pizza is a common Restaurants food in bangladesh.\", {\"entities\": [(0, 5, \"FOOD\")]}),\n",
    "              (\"Pasta is an italian recipe\", {\"entities\": [(0, 5, \"FOOD\")]}),\n",
    "              (\"noodles\", {\"entities\": [(0,7, \"FOOD\")]}),\n",
    "              (\"Sushi is extemely famous and expensive Japanese dish\", {\"entities\": [(0,5, \"FOOD\")]}),\n",
    "              (\"Chocolate soufflé is extremely famous french cuisine\", {\"entities\": [(0,17, \"FOOD\")]}),\n",
    "              (\"Burgers are the most commonly consumed fastfood\", {\"entities\": [(0,7, \"FOOD\")]}),\n",
    "              (\"Frenchfries are considered too oily\", {\"entities\": [(0,11, \"FOOD\")]}),\n",
    "\n",
    "           ]\n"
   ]
  },
  {
   "cell_type": "code",
   "execution_count": 89,
   "metadata": {},
   "outputs": [],
   "source": [
    "\n",
    "# Resume training\n",
    "optimizer = nlp.resume_training()\n",
    "move_names = list(ner.move_names)\n",
    "\n",
    "# List of pipes you want to train\n",
    "pipe_exceptions = [\"ner\", \"trf_wordpiecer\", \"trf_tok2vec\"]\n",
    "\n",
    "# List of pipes which should remain unaffected in training\n",
    "other_pipes = [pipe for pipe in nlp.pipe_names if pipe not in pipe_exceptions]"
   ]
  },
  {
   "cell_type": "code",
   "execution_count": 90,
   "metadata": {},
   "outputs": [
    {
     "name": "stderr",
     "output_type": "stream",
     "text": [
      "/home/pyarena/anaconda3/lib/python3.9/site-packages/spacy/training/iob_utils.py:141: UserWarning: [W030] Some entities could not be aligned in the text \"China's noodles are very famous\" with entities \"[(8, 14, 'FOOD')]\". Use `spacy.training.offsets_to_biluo_tags(nlp.make_doc(text), entities)` to check the alignment. Misaligned entities ('-') will be ignored during training.\n",
      "  warnings.warn(\n"
     ]
    }
   ],
   "source": [
    "from spacy.training.example import Example\n",
    "\n",
    "for batch in spacy.util.minibatch(TRAIN_DATA, size=2):\n",
    "    for text, annotations in batch:\n",
    "        # create Example\n",
    "        doc = nlp.make_doc(text)\n",
    "        example = Example.from_dict(doc, annotations)\n",
    "        # Update the model\n",
    "        nlp.update([example], losses=losses, drop=0.3)"
   ]
  },
  {
   "cell_type": "code",
   "execution_count": 91,
   "metadata": {},
   "outputs": [],
   "source": [
    "\n",
    "from spacy.util import minibatch, compounding\n",
    "import random\n",
    "\n",
    "# Begin training by disabling other pipeline components\n",
    "with nlp.disable_pipes(*other_pipes) :\n",
    "\n",
    "  sizes = compounding(1.0, 4.0, 1.001)\n",
    "  # Training for 30 iterations     \n",
    "  for itn in range(30):\n",
    "    # shuffle examples before training\n",
    "    random.shuffle(TRAIN_DATA)\n",
    "    # batch up the examples using spaCy's minibatch\n",
    "    batches = minibatch(TRAIN_DATA, size=sizes)\n",
    "    # ictionary to store losses\n",
    "    losses = {}\n",
    "    for batch in batches:\n",
    "        texts, annotations = zip(*batch)\n",
    "            \n",
    "        example = []\n",
    "        # Update the model with iterating each text\n",
    "        for i in range(len(texts)):\n",
    "            doc = nlp.make_doc(texts[i])\n",
    "            example.append(Example.from_dict(doc, annotations[i]))\n",
    "            \n",
    "        # Update the model\n",
    "        nlp.update(example, drop=0.5, losses=losses)"
   ]
  },
  {
   "cell_type": "code",
   "execution_count": 102,
   "metadata": {},
   "outputs": [
    {
     "name": "stdout",
     "output_type": "stream",
     "text": [
      "Entities in 'Bhapa pitha are street side favorite winter synack for Bangladeshi People.'\n",
      "Bhapa pitha\n"
     ]
    }
   ],
   "source": [
    "# Testing the NER\n",
    "\n",
    "sample_text = \"Bhapa pitha are street side favorite winter synack for Bangladeshi People.\"\n",
    "#test_text2 = \"Rice is common food in Bangladesh\"\n",
    "doc = nlp(sample_text)\n",
    "print(\"Entities in '%s'\" % sample_text)\n",
    "for ent in doc.ents:\n",
    "  print(ent)"
   ]
  },
  {
   "cell_type": "code",
   "execution_count": 103,
   "metadata": {},
   "outputs": [
    {
     "data": {
      "text/html": [
       "<span class=\"tex2jax_ignore\"><div class=\"entities\" style=\"line-height: 2.5; direction: ltr\">\n",
       "<mark class=\"entity\" style=\"background: #ddd; padding: 0.45em 0.6em; margin: 0 0.25em; line-height: 1; border-radius: 0.35em;\">\n",
       "    Bhapa pitha\n",
       "    <span style=\"font-size: 0.8em; font-weight: bold; line-height: 1; border-radius: 0.35em; vertical-align: middle; margin-left: 0.5rem\">FOOD</span>\n",
       "</mark>\n",
       " are street side favorite winter synack for Bangladeshi People.</div></span>"
      ],
      "text/plain": [
       "<IPython.core.display.HTML object>"
      ]
     },
     "metadata": {},
     "output_type": "display_data"
    }
   ],
   "source": [
    "from spacy import displacy\n",
    "\n",
    "displacy.render(doc, style='ent')"
   ]
  }
 ],
 "metadata": {
  "kernelspec": {
   "display_name": "Python 3.9.7 ('base')",
   "language": "python",
   "name": "python3"
  },
  "language_info": {
   "codemirror_mode": {
    "name": "ipython",
    "version": 3
   },
   "file_extension": ".py",
   "mimetype": "text/x-python",
   "name": "python",
   "nbconvert_exporter": "python",
   "pygments_lexer": "ipython3",
   "version": "3.9.7"
  },
  "orig_nbformat": 4,
  "vscode": {
   "interpreter": {
    "hash": "7cb26c2820345165c8f005dcc2089ef545de0103121273964bbf9eaa4deac97d"
   }
  }
 },
 "nbformat": 4,
 "nbformat_minor": 2
}
